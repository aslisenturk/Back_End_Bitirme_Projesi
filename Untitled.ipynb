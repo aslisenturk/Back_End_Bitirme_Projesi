{
 "cells": [
  {
   "cell_type": "markdown",
   "id": "be5dfec8",
   "metadata": {},
   "source": [
    "# Veri Analizi"
   ]
  },
  {
   "cell_type": "code",
   "execution_count": null,
   "id": "ab77c73a",
   "metadata": {},
   "outputs": [],
   "source": [
    "import numpy as np\n",
    "import pandas as pd\n",
    "import plotly.express as px"
   ]
  },
  {
   "cell_type": "code",
   "execution_count": null,
   "id": "8c2c1310",
   "metadata": {},
   "outputs": [],
   "source": [
    "data = pd.read_csv(\"data.csv\", encoding= 'unicode_escape')"
   ]
  },
  {
   "cell_type": "code",
   "execution_count": null,
   "id": "31b44f68",
   "metadata": {
    "scrolled": true
   },
   "outputs": [],
   "source": [
    "data.shape"
   ]
  },
  {
   "cell_type": "code",
   "execution_count": null,
   "id": "561f1a13",
   "metadata": {},
   "outputs": [],
   "source": [
    "data.columns"
   ]
  },
  {
   "cell_type": "code",
   "execution_count": null,
   "id": "570f2a5b",
   "metadata": {},
   "outputs": [],
   "source": [
    "data.head()"
   ]
  },
  {
   "cell_type": "markdown",
   "id": "b58b0e21",
   "metadata": {},
   "source": [
    "## 1. Hangi ürünler en çok satılmıştır? Bu ürünleri bir yatay çubuk grafiği ile gösterin."
   ]
  },
  {
   "cell_type": "code",
   "execution_count": null,
   "id": "5647a411",
   "metadata": {},
   "outputs": [],
   "source": [
    "z = data.groupby([\"Description\"]).size().reset_index(name=\"Total Count\")"
   ]
  },
  {
   "cell_type": "code",
   "execution_count": null,
   "id": "9a86b1d2",
   "metadata": {},
   "outputs": [],
   "source": [
    "z.head()"
   ]
  },
  {
   "cell_type": "code",
   "execution_count": null,
   "id": "2d8854f4",
   "metadata": {},
   "outputs": [],
   "source": [
    "z = z.sort_values(by = ['Total Count'], ascending = False)"
   ]
  },
  {
   "cell_type": "code",
   "execution_count": null,
   "id": "25957e2a",
   "metadata": {},
   "outputs": [],
   "source": [
    "description_top7 = z.head(7)\n",
    "description_top7 = description_top7.sort_values(by = ['Total Count'])"
   ]
  },
  {
   "cell_type": "code",
   "execution_count": null,
   "id": "126a07e3",
   "metadata": {},
   "outputs": [],
   "source": [
    "bar_graph1 = px.bar(description_top7, x='Total Count', y='Description', title='En Çok Satılan Ürünler')\n",
    "\n",
    "bar_graph1.show()"
   ]
  },
  {
   "cell_type": "markdown",
   "id": "bf67565d",
   "metadata": {},
   "source": [
    "## 2. Satışların yüzdelik oranlarını ülkeler üzerinde bir pasta grafiği ile gösterin."
   ]
  },
  {
   "cell_type": "code",
   "execution_count": null,
   "id": "1e5fa72a",
   "metadata": {},
   "outputs": [],
   "source": [
    "k = data.groupby(['Country']).size().reset_index(name = 'count')"
   ]
  },
  {
   "cell_type": "code",
   "execution_count": null,
   "id": "25382876",
   "metadata": {},
   "outputs": [],
   "source": [
    "k.head()"
   ]
  },
  {
   "cell_type": "code",
   "execution_count": null,
   "id": "b2bfb6df",
   "metadata": {},
   "outputs": [],
   "source": [
    "pie_chart =  px.pie(k, values='count', names='Country', title='Satışların Ülkelere Göre Dağılımı', width = 1030, height = 1500)\n",
    "\n",
    "pie_chart.update_layout(title={'text': \"Satışların Ülkelere Göre Dağılımı\", 'y':0.9, 'x':0 }, legend={'y':2, 'x':0.8})"
   ]
  },
  {
   "cell_type": "markdown",
   "id": "a39c71bf",
   "metadata": {},
   "source": [
    "## 3. Hangi müşteriler en çok satın alma yapmıştır? En çok satın alma yapan ilk beş müşteriyi bir yatay çubuk grafiği ile gösterin."
   ]
  },
  {
   "cell_type": "code",
   "execution_count": null,
   "id": "b0cf6a89",
   "metadata": {},
   "outputs": [],
   "source": [
    "p = data.groupby(['CustomerID']).size().reset_index(name = 'Total Count')"
   ]
  },
  {
   "cell_type": "code",
   "execution_count": null,
   "id": "7f5ac6f8",
   "metadata": {},
   "outputs": [],
   "source": [
    "p.head()"
   ]
  },
  {
   "cell_type": "code",
   "execution_count": null,
   "id": "282e28d7",
   "metadata": {},
   "outputs": [],
   "source": [
    "p = p.sort_values(by = ['Total Count'], ascending = False)"
   ]
  },
  {
   "cell_type": "code",
   "execution_count": null,
   "id": "a2cafa95",
   "metadata": {},
   "outputs": [],
   "source": [
    "customers_top5 = p.head()\n",
    "customers_top5 = customers_top5.sort_values(by = ['Total Count'])"
   ]
  },
  {
   "cell_type": "code",
   "execution_count": null,
   "id": "f9127ee5",
   "metadata": {},
   "outputs": [],
   "source": [
    "customers_top5.head()"
   ]
  },
  {
   "cell_type": "code",
   "execution_count": null,
   "id": "357a3a55",
   "metadata": {},
   "outputs": [],
   "source": [
    "customers_top5.info()"
   ]
  },
  {
   "cell_type": "code",
   "execution_count": null,
   "id": "d206c232",
   "metadata": {},
   "outputs": [],
   "source": [
    "customers_top5['CustomerID'] =  customers_top5['CustomerID'].astype(str) "
   ]
  },
  {
   "cell_type": "code",
   "execution_count": null,
   "id": "4d42c4cd",
   "metadata": {},
   "outputs": [],
   "source": [
    "bar_graph2 = px.bar(customers_top5, x='Total Count', y='CustomerID', title='En Çok Satın Alma Yapan Müşteriler')\n",
    "\n",
    "bar_graph2.show()"
   ]
  },
  {
   "cell_type": "code",
   "execution_count": null,
   "id": "c76f3bfb",
   "metadata": {},
   "outputs": [],
   "source": []
  }
 ],
 "metadata": {
  "kernelspec": {
   "display_name": "Python 3 (ipykernel)",
   "language": "python",
   "name": "python3"
  },
  "language_info": {
   "codemirror_mode": {
    "name": "ipython",
    "version": 3
   },
   "file_extension": ".py",
   "mimetype": "text/x-python",
   "name": "python",
   "nbconvert_exporter": "python",
   "pygments_lexer": "ipython3",
   "version": "3.11.3"
  }
 },
 "nbformat": 4,
 "nbformat_minor": 5
}
